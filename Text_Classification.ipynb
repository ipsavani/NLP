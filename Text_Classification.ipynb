{
 "cells": [
  {
   "cell_type": "markdown",
   "metadata": {},
   "source": [
    "# Text Classification (Machine Learning and NLP Basics)"
   ]
  },
  {
   "cell_type": "markdown",
   "metadata": {},
   "source": [
    "## Contents:\n",
    "1. preprocessing.\n",
    "2. tokenization.\n",
    "3. feature extraction.\n",
    "4. Implement Logistic Regression.\n",
    "5. Implement Stochastic Gradient Descent and Mini-batch Gradient Descent.\n",
    "6. Evaluate all the experiments and compare all the results.\n",
    "\n",
    "##### Dependency packages (NumPy, Pandas, sklearn, tqdm, and matplotlib)"
   ]
  },
  {
   "cell_type": "markdown",
   "metadata": {},
   "source": [
    "## 1. Data Processing\n",
    "* Load data with Pandas\n",
    "* Preprocessing\n",
    "* Tokenization\n",
    "* Split data\n",
    "* Feature extraction (TF-IDF)"
   ]
  },
  {
   "cell_type": "markdown",
   "metadata": {},
   "source": [
    "### 1.1 Load Data"
   ]
  },
  {
   "cell_type": "code",
   "execution_count": 32,
   "metadata": {},
   "outputs": [
    {
     "data": {
      "text/html": [
       "<div>\n",
       "<style scoped>\n",
       "    .dataframe tbody tr th:only-of-type {\n",
       "        vertical-align: middle;\n",
       "    }\n",
       "\n",
       "    .dataframe tbody tr th {\n",
       "        vertical-align: top;\n",
       "    }\n",
       "\n",
       "    .dataframe thead th {\n",
       "        text-align: right;\n",
       "    }\n",
       "</style>\n",
       "<table border=\"1\" class=\"dataframe\">\n",
       "  <thead>\n",
       "    <tr style=\"text-align: right;\">\n",
       "      <th></th>\n",
       "      <th>label</th>\n",
       "      <th>title</th>\n",
       "      <th>text</th>\n",
       "    </tr>\n",
       "  </thead>\n",
       "  <tbody>\n",
       "    <tr>\n",
       "      <th>0</th>\n",
       "      <td>3</td>\n",
       "      <td>Wall St. Bears Claw Back Into the Black (Reuters)</td>\n",
       "      <td>Reuters - Short-sellers, Wall Street's dwindli...</td>\n",
       "    </tr>\n",
       "    <tr>\n",
       "      <th>1</th>\n",
       "      <td>3</td>\n",
       "      <td>Carlyle Looks Toward Commercial Aerospace (Reu...</td>\n",
       "      <td>Reuters - Private investment firm Carlyle Grou...</td>\n",
       "    </tr>\n",
       "    <tr>\n",
       "      <th>2</th>\n",
       "      <td>3</td>\n",
       "      <td>Oil and Economy Cloud Stocks' Outlook (Reuters)</td>\n",
       "      <td>Reuters - Soaring crude prices plus worries\\ab...</td>\n",
       "    </tr>\n",
       "    <tr>\n",
       "      <th>3</th>\n",
       "      <td>3</td>\n",
       "      <td>Iraq Halts Oil Exports from Main Southern Pipe...</td>\n",
       "      <td>Reuters - Authorities have halted oil export\\f...</td>\n",
       "    </tr>\n",
       "    <tr>\n",
       "      <th>4</th>\n",
       "      <td>3</td>\n",
       "      <td>Oil prices soar to all-time record, posing new...</td>\n",
       "      <td>AFP - Tearaway world oil prices, toppling reco...</td>\n",
       "    </tr>\n",
       "  </tbody>\n",
       "</table>\n",
       "</div>"
      ],
      "text/plain": [
       "   label                                              title  \\\n",
       "0      3  Wall St. Bears Claw Back Into the Black (Reuters)   \n",
       "1      3  Carlyle Looks Toward Commercial Aerospace (Reu...   \n",
       "2      3    Oil and Economy Cloud Stocks' Outlook (Reuters)   \n",
       "3      3  Iraq Halts Oil Exports from Main Southern Pipe...   \n",
       "4      3  Oil prices soar to all-time record, posing new...   \n",
       "\n",
       "                                                text  \n",
       "0  Reuters - Short-sellers, Wall Street's dwindli...  \n",
       "1  Reuters - Private investment firm Carlyle Grou...  \n",
       "2  Reuters - Soaring crude prices plus worries\\ab...  \n",
       "3  Reuters - Authorities have halted oil export\\f...  \n",
       "4  AFP - Tearaway world oil prices, toppling reco...  "
      ]
     },
     "execution_count": 32,
     "metadata": {},
     "output_type": "execute_result"
    }
   ],
   "source": [
    "import pandas as pd\n",
    "\n",
    "train_df = pd.read_csv('./data/train.csv', header=None)\n",
    "train_df.columns = ['label', 'title', 'text']\n",
    "train_df.head()"
   ]
  },
  {
   "cell_type": "code",
   "execution_count": 33,
   "metadata": {},
   "outputs": [
    {
     "data": {
      "text/html": [
       "<div>\n",
       "<style scoped>\n",
       "    .dataframe tbody tr th:only-of-type {\n",
       "        vertical-align: middle;\n",
       "    }\n",
       "\n",
       "    .dataframe tbody tr th {\n",
       "        vertical-align: top;\n",
       "    }\n",
       "\n",
       "    .dataframe thead th {\n",
       "        text-align: right;\n",
       "    }\n",
       "</style>\n",
       "<table border=\"1\" class=\"dataframe\">\n",
       "  <thead>\n",
       "    <tr style=\"text-align: right;\">\n",
       "      <th></th>\n",
       "      <th>label</th>\n",
       "      <th>title</th>\n",
       "      <th>text</th>\n",
       "    </tr>\n",
       "  </thead>\n",
       "  <tbody>\n",
       "    <tr>\n",
       "      <th>0</th>\n",
       "      <td>3</td>\n",
       "      <td>Fears for T N pension after talks</td>\n",
       "      <td>Unions representing workers at Turner   Newall...</td>\n",
       "    </tr>\n",
       "    <tr>\n",
       "      <th>1</th>\n",
       "      <td>4</td>\n",
       "      <td>The Race is On: Second Private Team Sets Launc...</td>\n",
       "      <td>SPACE.com - TORONTO, Canada -- A second\\team o...</td>\n",
       "    </tr>\n",
       "    <tr>\n",
       "      <th>2</th>\n",
       "      <td>4</td>\n",
       "      <td>Ky. Company Wins Grant to Study Peptides (AP)</td>\n",
       "      <td>AP - A company founded by a chemistry research...</td>\n",
       "    </tr>\n",
       "    <tr>\n",
       "      <th>3</th>\n",
       "      <td>4</td>\n",
       "      <td>Prediction Unit Helps Forecast Wildfires (AP)</td>\n",
       "      <td>AP - It's barely dawn when Mike Fitzpatrick st...</td>\n",
       "    </tr>\n",
       "    <tr>\n",
       "      <th>4</th>\n",
       "      <td>4</td>\n",
       "      <td>Calif. Aims to Limit Farm-Related Smog (AP)</td>\n",
       "      <td>AP - Southern California's smog-fighting agenc...</td>\n",
       "    </tr>\n",
       "  </tbody>\n",
       "</table>\n",
       "</div>"
      ],
      "text/plain": [
       "   label                                              title  \\\n",
       "0      3                  Fears for T N pension after talks   \n",
       "1      4  The Race is On: Second Private Team Sets Launc...   \n",
       "2      4      Ky. Company Wins Grant to Study Peptides (AP)   \n",
       "3      4      Prediction Unit Helps Forecast Wildfires (AP)   \n",
       "4      4        Calif. Aims to Limit Farm-Related Smog (AP)   \n",
       "\n",
       "                                                text  \n",
       "0  Unions representing workers at Turner   Newall...  \n",
       "1  SPACE.com - TORONTO, Canada -- A second\\team o...  \n",
       "2  AP - A company founded by a chemistry research...  \n",
       "3  AP - It's barely dawn when Mike Fitzpatrick st...  \n",
       "4  AP - Southern California's smog-fighting agenc...  "
      ]
     },
     "execution_count": 33,
     "metadata": {},
     "output_type": "execute_result"
    }
   ],
   "source": [
    "test_df = pd.read_csv('./data/test.csv', header=None)\n",
    "test_df.columns = ['label', 'title', 'text']\n",
    "test_df.head()"
   ]
  },
  {
   "cell_type": "markdown",
   "metadata": {},
   "source": [
    "### 1.2 Preprocess\n",
    "remove all the unrelated characters, including punctuation, urls, and numbers."
   ]
  },
  {
   "cell_type": "code",
   "execution_count": 34,
   "metadata": {},
   "outputs": [],
   "source": [
    "import re\n",
    "import string\n",
    "\n",
    "class Preprocesser(object):\n",
    "    def __init__(self, punctuation=True, url=True, number=True):\n",
    "        self.punctuation = punctuation\n",
    "        self.url = url\n",
    "        self.number = number\n",
    "    \n",
    "    def apply(self, text):\n",
    "        text = self._lowercase(text)\n",
    "        if self.url:\n",
    "            text = self._remove_url(text)\n",
    "        if self.punctuation:\n",
    "            text = self._remove_punctuation(text)\n",
    "        if self.number:\n",
    "            text = self._remove_number(text)\n",
    "        text = re.sub(r'\\s+', ' ', text)\n",
    "        return text\n",
    "\n",
    "    def _remove_punctuation(self, text):\n",
    "        text = text.translate(str.maketrans('','', string.punctuation))\n",
    "        return text\n",
    "    \n",
    "    def _remove_url(self, text):\n",
    "        text = re.sub(r'\\S*https?:\\S*','',text)\n",
    "        return text\n",
    "    \n",
    "    def _remove_number(self, text):\n",
    "        text = text.translate(str.maketrans('','', string.digits))\n",
    "        return text\n",
    "    \n",
    "    def _lowercase(self, text):\n",
    "        text = text.lower()\n",
    "        return text"
   ]
  },
  {
   "cell_type": "markdown",
   "metadata": {},
   "source": [
    "##### Test Preprocessor()"
   ]
  },
  {
   "cell_type": "code",
   "execution_count": 35,
   "metadata": {},
   "outputs": [
    {
     "name": "stdout",
     "output_type": "stream",
     "text": [
      "\"Interest rates are trimmed to 7.5 by the South African central bank (https://www.xxx.xxx), but the lack of warning hits the rand and surprises markets.\"\n",
      "===>\n",
      "\"interest rates are trimmed to by the south african central bank but the lack of warning hits the rand and surprises markets\"\n"
     ]
    }
   ],
   "source": [
    "text = \"Interest rates are trimmed to 7.5 by the South African central bank (https://www.xxx.xxx), but the lack of warning hits the rand and surprises markets.\"\n",
    "\n",
    "processer = Preprocesser()\n",
    "clean_text = processer.apply(text)\n",
    "\n",
    "print(f'\"{text}\"')\n",
    "print('===>')\n",
    "print(f'\"{clean_text}\"')"
   ]
  },
  {
   "cell_type": "markdown",
   "metadata": {},
   "source": [
    "### 1.3 Tokenization"
   ]
  },
  {
   "cell_type": "code",
   "execution_count": 36,
   "metadata": {},
   "outputs": [],
   "source": [
    "def tokenize(text):\n",
    "    # List of common english stop words, taken from https://gist.github.com/sebleier/554280\n",
    "    stop_words = [\"i\", \"me\", \"my\", \"myself\", \"we\", \"our\", \"ours\", \"ourselves\", \"you\", \"your\", \"yours\", \"yourself\", \"yourselves\",  \\\n",
    "                 \"he\", \"him\", \"his\", \"himself\", \"she\", \"her\", \"hers\", \"herself\", \"it\", \"its\", \"itself\", \"they\", \"them\",\"their\",   \\\n",
    "                 \"theirs\", \"themselves\", \"what\", \"which\", \"who\", \"whom\", \"this\", \"that\", \"these\", \"those\", \"am\", \"is\", \"are\",     \\\n",
    "                 \"was\", \"were\", \"be\", \"been\", \"being\", \"have\", \"has\", \"had\", \"having\", \"do\", \"does\", \"did\", \"doing\", \"a\",\"an\",    \\\n",
    "                 \"the\", \"and\", \"but\", \"if\", \"or\", \"because\", \"as\", \"until\", \"while\", \"of\", \"at\", \"by\", \"for\", \"with\",\"about\",     \\\n",
    "                 \"against\", \"between\", \"into\", \"through\", \"during\", \"before\", \"after\", \"above\", \"below\", \"to\", \"from\", \"up\",      \\\n",
    "                 \"down\", \"in\", \"out\", \"on\", \"off\", \"over\", \"under\",\"again\", \"further\", \"then\", \"once\", \"here\",\"there\", \"when\",    \\\n",
    "                 \"where\", \"why\", \"how\", \"all\", \"any\", \"both\", \"each\", \"few\", \"more\", \"most\", \"other\", \"some\", \"such\", \"no\", \"nor\",\\\n",
    "                 \"not\", \"only\", \"own\", \"same\", \"so\", \"than\", \"too\", \"very\", \"s\", \"t\", \"can\", \"will\", \"just\", \"don\", \"should\", \"now\"]\n",
    "\n",
    "    # \\W+: one or more non-words\n",
    "    tokens = re.split(r\"\\W+\", text.strip())\n",
    "    # Remove stop words\n",
    "    tokens = [word for word in tokens if word not in stop_words]\n",
    "    \n",
    "    return tokens"
   ]
  },
  {
   "cell_type": "markdown",
   "metadata": {},
   "source": [
    "##### Test tokenize()"
   ]
  },
  {
   "cell_type": "code",
   "execution_count": 37,
   "metadata": {},
   "outputs": [
    {
     "name": "stdout",
     "output_type": "stream",
     "text": [
      "Interest rates are trimmed to 7.5 by the South African central bank (https://www.xxx.xxx), but the lack of warning hits the rand and surprises markets. ==> ['interest', 'rates', 'trimmed', 'south', 'african', 'central', 'bank', 'lack', 'warning', 'hits', 'rand', 'surprises', 'markets']\n"
     ]
    }
   ],
   "source": [
    "text = \"Interest rates are trimmed to 7.5 by the South African central bank (https://www.xxx.xxx), but the lack of warning hits the rand and surprises markets.\"\n",
    "\n",
    "processer = Preprocesser()\n",
    "clean_text = processer.apply(text)\n",
    "tokens = tokenize(clean_text)\n",
    "\n",
    "print(f'{text} ==> {tokens}')"
   ]
  },
  {
   "cell_type": "markdown",
   "metadata": {},
   "source": [
    "### 1.4 Data split"
   ]
  },
  {
   "cell_type": "code",
   "execution_count": 80,
   "metadata": {},
   "outputs": [
    {
     "name": "stdout",
     "output_type": "stream",
     "text": [
      "The size of training set: (108000,)\n",
      "The size of validation set: 12000\n",
      "The size of test set: 7600\n"
     ]
    }
   ],
   "source": [
    "from sklearn.model_selection import train_test_split\n",
    "\n",
    "text_train = train_df['text'].values.astype(str)\n",
    "label_train = train_df['label'].values.astype(int) - 1 # -1 because labels start from 1\n",
    "\n",
    "text_test = test_df['text'].values.astype(str)\n",
    "label_test = test_df['label'].values.astype(int) - 1 # -1 because labels start from 1\n",
    "\n",
    "text_train, text_valid, label_train, label_valid = train_test_split(text_train,label_train,test_size = 0.1)\n",
    "\n",
    "print('The size of training set:', text_train.shape[0])\n",
    "print('The size of validation set:', text_valid.shape[0])\n",
    "print('The size of test set:', text_test.shape[0])\n"
   ]
  },
  {
   "cell_type": "markdown",
   "metadata": {},
   "source": [
    "### 1.5 Feature Extraction"
   ]
  },
  {
   "cell_type": "code",
   "execution_count": 39,
   "metadata": {},
   "outputs": [],
   "source": [
    "from collections import defaultdict\n",
    "import numpy as np\n",
    "from tqdm.notebook import tqdm\n",
    "\n",
    "class TfIdfExtractor(object):\n",
    "    \n",
    "    def __init__(self, vocab_size=None):\n",
    "        self.vocab_size = vocab_size\n",
    "        \n",
    "        self.vocab = defaultdict(lambda: 0)\n",
    "        self.word2idx = {}\n",
    "        self.df = defaultdict(lambda: 0)\n",
    "        self.num_doc = 0\n",
    "        \n",
    "        self.processer = Preprocesser()\n",
    "        \n",
    "        \n",
    "    def fit(self, texts):\n",
    "        ''' \n",
    "            Input:\n",
    "                texts: a list of text (training set)\n",
    "            Output:\n",
    "                None\n",
    "        '''\n",
    "\n",
    "        self.num_doc = len(texts)\n",
    "        \n",
    "        for text in tqdm(texts, desc='fitting text'):\n",
    "            clean_text = self.processer.apply(text)\n",
    "            tokens = tokenize(clean_text)\n",
    "            \n",
    "            # add unique words in vocab\n",
    "            self.vocab.update({token:0 for token in tokens})\n",
    "            # get frequency of words in each document\n",
    "            self.df.update({token:self.df[token]+1 for token in set(tokens)})\n",
    "\n",
    "        # sort vocabulary based on document frequency\n",
    "        self.vocab = dict(sorted(self.vocab.items(), key=lambda x: self.df[x[0]], reverse=True))\n",
    "                \n",
    "        if self.vocab_size is not None:\n",
    "            self.vocab = {key: self.vocab[key] for key in list(self.vocab.keys())[:self.vocab_size]}\n",
    "        \n",
    "        self.word2idx = {key: idx for idx, key in enumerate(self.vocab.keys())}\n",
    "\n",
    "\n",
    "    def transform(self, texts):\n",
    "        ''' \n",
    "            Input:\n",
    "                texts: a list of text.\n",
    "            Ouput:\n",
    "                a N-d matrix (Tf-Idf) \n",
    "        '''\n",
    "        tfidf = np.zeros((len(texts), len(self.vocab)))\n",
    "        \n",
    "        for i, text in tqdm(enumerate(texts), desc='transforming', total=len(texts)):\n",
    "            clean_text = self.processer.apply(text)\n",
    "            tokens = tokenize(clean_text)\n",
    "            \n",
    "            # calculate term frequncy \n",
    "            tf = [tokens.count(word)/len(tokens) for idx,word in enumerate(self.word2idx.keys())]\n",
    "            idf = [np.log((len(texts)+1)/(self.df[word]+1))+1 for idx,word in enumerate(self.word2idx.keys())]\n",
    "            # tfidf[i] = tf*idf\n",
    "            tfidf[i] = np.array([x*y for x,y in zip(tf,idf)])\n",
    "        \n",
    "        return tfidf\n",
    "                "
   ]
  },
  {
   "cell_type": "markdown",
   "metadata": {},
   "source": [
    "##### Test TfIdfExtractor()"
   ]
  },
  {
   "cell_type": "code",
   "execution_count": 40,
   "metadata": {},
   "outputs": [
    {
     "data": {
      "application/vnd.jupyter.widget-view+json": {
       "model_id": "aecb2fa22fbe49898afd39c03b6e046b",
       "version_major": 2,
       "version_minor": 0
      },
      "text/plain": [
       "fitting text:   0%|          | 0/100 [00:00<?, ?it/s]"
      ]
     },
     "metadata": {},
     "output_type": "display_data"
    },
    {
     "data": {
      "application/vnd.jupyter.widget-view+json": {
       "model_id": "ae5d802af9064cbc9121c34dde3ae063",
       "version_major": 2,
       "version_minor": 0
      },
      "text/plain": [
       "transforming:   0%|          | 0/10 [00:00<?, ?it/s]"
      ]
     },
     "metadata": {},
     "output_type": "display_data"
    },
    {
     "data": {
      "text/plain": [
       "array([[0.        , 0.        , 0.        , 0.        , 0.        ,\n",
       "        0.        , 0.        , 0.        , 0.        , 0.12099876],\n",
       "       [0.        , 0.        , 0.        , 0.        , 0.        ,\n",
       "        0.        , 0.        , 0.        , 0.        , 0.        ],\n",
       "       [0.01813825, 0.04      , 0.        , 0.        , 0.        ,\n",
       "        0.        , 0.        , 0.        , 0.        , 0.        ],\n",
       "       [0.        , 0.        , 0.        , 0.        , 0.        ,\n",
       "        0.        , 0.        , 0.        , 0.        , 0.        ],\n",
       "       [0.        , 0.        , 0.        , 0.        , 0.        ,\n",
       "        0.        , 0.        , 0.        , 0.        , 0.        ]])"
      ]
     },
     "execution_count": 40,
     "metadata": {},
     "output_type": "execute_result"
    }
   ],
   "source": [
    "extractor = TfIdfExtractor(vocab_size=10)\n",
    "extractor.fit(text_train[:100])\n",
    "X = extractor.transform(text_train[:10])\n",
    "\n",
    "X[:5]"
   ]
  },
  {
   "cell_type": "markdown",
   "metadata": {},
   "source": [
    "#### 1.5.4 obtain the TD-IDF and One-hot labels"
   ]
  },
  {
   "cell_type": "code",
   "execution_count": 41,
   "metadata": {},
   "outputs": [
    {
     "data": {
      "application/vnd.jupyter.widget-view+json": {
       "model_id": "48c496468dd8464f9c8ceda705dfc2a5",
       "version_major": 2,
       "version_minor": 0
      },
      "text/plain": [
       "fitting text:   0%|          | 0/108000 [00:00<?, ?it/s]"
      ]
     },
     "metadata": {},
     "output_type": "display_data"
    },
    {
     "data": {
      "application/vnd.jupyter.widget-view+json": {
       "model_id": "7bcd109666384d769b042e3fb7fc8341",
       "version_major": 2,
       "version_minor": 0
      },
      "text/plain": [
       "transforming:   0%|          | 0/108000 [00:00<?, ?it/s]"
      ]
     },
     "metadata": {},
     "output_type": "display_data"
    },
    {
     "data": {
      "application/vnd.jupyter.widget-view+json": {
       "model_id": "24c8eda43bb946b79350bc47e648aaa6",
       "version_major": 2,
       "version_minor": 0
      },
      "text/plain": [
       "transforming:   0%|          | 0/12000 [00:00<?, ?it/s]"
      ]
     },
     "metadata": {},
     "output_type": "display_data"
    },
    {
     "data": {
      "application/vnd.jupyter.widget-view+json": {
       "model_id": "59dc8507fc604294b701a13c08f71d34",
       "version_major": 2,
       "version_minor": 0
      },
      "text/plain": [
       "transforming:   0%|          | 0/7600 [00:00<?, ?it/s]"
      ]
     },
     "metadata": {},
     "output_type": "display_data"
    },
    {
     "name": "stdout",
     "output_type": "stream",
     "text": [
      "The size of training set: (108000, 4000)\n",
      "The size of validation set: (12000, 4000)\n",
      "The size of test set: (7600, 4000)\n"
     ]
    }
   ],
   "source": [
    "# You can change this number to see the difference of the performances. (larger vocab size needs more memory)\n",
    "vocab_size = 4000\n",
    "num_class = 4\n",
    "\n",
    "extractor = TfIdfExtractor(vocab_size=vocab_size)\n",
    "extractor.fit(text_train)\n",
    "\n",
    "x_train = extractor.transform(text_train)\n",
    "x_valid = extractor.transform(text_valid)\n",
    "x_test = extractor.transform(text_test)\n",
    "\n",
    "\n",
    "# convert label to one-hot vector\n",
    "y_train = np.zeros((label_train.shape[0], num_class))\n",
    "y_train[np.arange(label_train.shape[0]), label_train] = 1\n",
    "\n",
    "y_valid = np.zeros((label_valid.shape[0], num_class))\n",
    "y_valid[np.arange(label_valid.shape[0]), label_valid] = 1\n",
    "\n",
    "y_test = np.zeros((label_test.shape[0], num_class))\n",
    "y_test[np.arange(label_test.shape[0]), label_test] = 1\n",
    "\n",
    "\n",
    "print('The size of training set:', x_train.shape)\n",
    "print('The size of validation set:', x_valid.shape)\n",
    "print('The size of test set:', x_test.shape)\n"
   ]
  },
  {
   "cell_type": "markdown",
   "metadata": {},
   "source": [
    "## 2. Logistic Regression\n",
    "Logistic Regression(LR) model with $L_2$ regularization from scratch. \n",
    "\n",
    "\n",
    "The objective function of LR:\n",
    "\n",
    "<center> $J = -\\frac{1}{N}\\sum_{i=1}^{N}\\sum_{k=1}^{K}y_{ik}log\\frac{e^{f_k}}{\\sum_{c=1}^{K}e^{f_c}} + \\lambda \\sum_{j=1}^{d}w_{kj}^2$ </center>"
   ]
  },
  {
   "cell_type": "markdown",
   "metadata": {},
   "source": [
    "### 2.1 LR and softmax function"
   ]
  },
  {
   "cell_type": "code",
   "execution_count": 42,
   "metadata": {},
   "outputs": [],
   "source": [
    "def softmax(x):\n",
    "    ''' Compute the softmax function for each row of the input x.\n",
    "        \n",
    "        Inputs:\n",
    "            x: A D dimensional vector or N x D dimensional numpy matrix.\n",
    "        Outputs:\n",
    "            x: You are allowed to modify x in-place\n",
    "    '''\n",
    "    # using x - np.max(x) for numerical stability\n",
    "    x = np.exp(x-np.max(x))\n",
    "    x = x/(np.sum(x,axis=1).reshape(-1,1))\n",
    "\n",
    "    return x\n",
    "\n",
    "\n",
    "class LogisticRegression(object):\n",
    "    \n",
    "    def __init__(self, vocab_size, num_class, lam):\n",
    "        self.vocab_size = vocab_size\n",
    "        self.num_class = num_class\n",
    "        self.lam = lam\n",
    "        \n",
    "        ### use np.random.rand() to randomly initialize the parameters\n",
    "        self.w = np.random.rand(self.vocab_size, num_class)\n",
    "        self.b = np.random.rand(1, num_class)\n",
    "        \n",
    "        \n",
    "    def objective(self, x, y):\n",
    "        ''' Implement the objective function\n",
    "            Inputs:\n",
    "                x: N-d matrix\n",
    "                y: N-K matrix\n",
    "            Output:\n",
    "                the objective value of LR (scalar)\n",
    "        '''\n",
    "        loss = 0\n",
    "        z = x @ self.w + self.b\n",
    "        n = x.shape[0]\n",
    "        # loss = -1/n * sum((y - ln(y_hat)) + lam * w**2).\n",
    "        loss = - (np.sum(np.sum(y * np.log(softmax(z)) + np.sum(self.lam * self.w * self.w,axis=0) ,axis=1))) / n\n",
    "\n",
    "        \n",
    "        return loss\n",
    "        \n",
    "    \n",
    "    def gradient(self, x, y):\n",
    "        ''' Implement the gradient of J with respect to w (in Deliverable 1)\n",
    "            Inputs:\n",
    "                x: N-d matrix\n",
    "                y: N-K matrix\n",
    "            Output:\n",
    "                w_grad: the gradient of J w.r.t weight\n",
    "                b_grad: the gradient of J w.r.t bias (K dimensional vector)\n",
    "        '''             \n",
    "        w_grad = []\n",
    "        b_grad = []\n",
    "\n",
    "        n = x.shape[0]\n",
    "        z = x @ self.w + self.b\n",
    "        w_grad = (-1/n) * (x.T @ (y - softmax(z)) + 2 * self.lam * self.w)\n",
    "        b_grad = (-1/n) * (y - softmax(z))\n",
    "                \n",
    "        return w_grad, b_grad\n",
    "    \n",
    "    \n",
    "    def gradient_descent(self, w_grad, b_grad, lr):\n",
    "        ''' graident descent. \n",
    "            Updating weights and bias based on Equation: w = w - learning_rate * gradient)\n",
    "            \n",
    "            Inputs:\n",
    "                w_grad: a matrix which is the gradient of J w.r.t to weight\n",
    "                b_grad: a vector wich is the graident of J w.r.t to bias\n",
    "            Output:\n",
    "                None\n",
    "        '''\n",
    "        \n",
    "        \n",
    "        self.w -= lr*w_grad\n",
    "        self.b -= lr*b_grad\n",
    "    \n",
    "    \n",
    "    \n",
    "    def predict(self, x):\n",
    "        y_hat = softmax(np.dot(x, self.w)+self.b).squeeze()\n",
    "        return np.argmax(y_hat, axis=-1)"
   ]
  },
  {
   "cell_type": "markdown",
   "metadata": {},
   "source": [
    "### 2.2 Stochastic Gradient Descent (SGD)"
   ]
  },
  {
   "cell_type": "code",
   "execution_count": 71,
   "metadata": {},
   "outputs": [],
   "source": [
    "def sgd(model, X, y, lr, lam, num_epoch=100,print_loss = True):\n",
    "    ''' SGD\n",
    "        Inputs:\n",
    "            X: N-d matrix\n",
    "            y: N-K matrix\n",
    "            lr: learning rate\n",
    "            lam: lambda\n",
    "            num_epoch: the number of epochs\n",
    "        Output:\n",
    "            1. A list of training losses against epoch\n",
    "            2. A list of validation losses against epoch\n",
    "    '''\n",
    "    train_losses = []\n",
    "    valid_losses = []\n",
    "    \n",
    "    n, _ = X.shape\n",
    "    \n",
    "    for e in range(num_epoch):\n",
    "        train_loss = 0.\n",
    "        # pick a random row\n",
    "        # row = np.random.randint(n)\n",
    "        for i in range(n):\n",
    "            w_grad,b_grad = model.gradient(X[i,:].reshape(1,-1),y[i,:].reshape(1,-1))\n",
    "            model.gradient_descent(w_grad,b_grad,lr)\n",
    "\n",
    "        train_loss = model.objective(X,y)        \n",
    "        valid_loss = 0.\n",
    "        \n",
    "        valid_loss = model.objective(x_valid,y_valid)\n",
    "\n",
    "        print(f'At epoch {e+1}, training loss: {train_loss:.4f}, validation loss: {valid_loss:.4f}.')\n",
    "        train_losses.append(np.mean(train_loss))\n",
    "        valid_losses.append(np.mean(valid_loss))\n",
    "            \n",
    "    return train_losses, valid_losses"
   ]
  },
  {
   "cell_type": "markdown",
   "metadata": {},
   "source": [
    "Run SGD"
   ]
  },
  {
   "cell_type": "code",
   "execution_count": 46,
   "id": "8e61f1c2",
   "metadata": {},
   "outputs": [
    {
     "name": "stdout",
     "output_type": "stream",
     "text": [
      "At epoch 1, training loss: 0.6094, validation loss: 0.8076.\n",
      "At epoch 2, training loss: 0.4866, validation loss: 0.6674.\n",
      "At epoch 3, training loss: 0.4349, validation loss: 0.5999.\n",
      "At epoch 4, training loss: 0.4047, validation loss: 0.5585.\n",
      "At epoch 5, training loss: 0.3843, validation loss: 0.5299.\n",
      "At epoch 6, training loss: 0.3693, validation loss: 0.5087.\n",
      "At epoch 7, training loss: 0.3576, validation loss: 0.4922.\n",
      "At epoch 8, training loss: 0.3481, validation loss: 0.4789.\n",
      "At epoch 9, training loss: 0.3401, validation loss: 0.4678.\n",
      "At epoch 10, training loss: 0.3334, validation loss: 0.4584.\n",
      "At epoch 11, training loss: 0.3275, validation loss: 0.4504.\n",
      "At epoch 12, training loss: 0.3223, validation loss: 0.4433.\n",
      "At epoch 13, training loss: 0.3177, validation loss: 0.4371.\n",
      "At epoch 14, training loss: 0.3136, validation loss: 0.4316.\n",
      "At epoch 15, training loss: 0.3098, validation loss: 0.4266.\n",
      "At epoch 16, training loss: 0.3064, validation loss: 0.4221.\n",
      "At epoch 17, training loss: 0.3032, validation loss: 0.4180.\n",
      "At epoch 18, training loss: 0.3003, validation loss: 0.4142.\n",
      "At epoch 19, training loss: 0.2976, validation loss: 0.4108.\n",
      "At epoch 20, training loss: 0.2951, validation loss: 0.4076.\n"
     ]
    }
   ],
   "source": [
    "''' Update the hyper-parameters (num_epoch, lr, and lam) according to your observation to achieve better performance.\n",
    "'''\n",
    "num_epoch_SGD = 20\n",
    "lr = 0.01\n",
    "lam = 1E-6\n",
    "\n",
    "sgd_lr = LogisticRegression(vocab_size, num_class, lam)\n",
    "sgd_train_losses, sgd_valid_losses = sgd(sgd_lr, x_train, y_train, lr, lam, num_epoch_SGD)"
   ]
  },
  {
   "cell_type": "markdown",
   "metadata": {},
   "source": [
    "### 2.3 Mini-batch Gradient Descent"
   ]
  },
  {
   "cell_type": "code",
   "execution_count": 58,
   "metadata": {},
   "outputs": [],
   "source": [
    "def mini_batch_gd(model, X, y, batch_size, lr, lam, num_epoch=100,print_loss=True):\n",
    "    '''  SGD\n",
    "        Inputs:\n",
    "            X: N-d matrix\n",
    "            y: N-K matrix\n",
    "            lr: learning rate\n",
    "            lam: lambda\n",
    "            num_epoch: the number of epochs\n",
    "        Output:\n",
    "            1. A list of training losses against epoch\n",
    "            2. A list of validation losses against epoch\n",
    "    '''\n",
    "    train_losses = []\n",
    "    valid_losses = []\n",
    "    \n",
    "    n, _ = X.shape\n",
    "    \n",
    "    for e in range(num_epoch):\n",
    "        train_loss = 0.\n",
    "        \n",
    "\n",
    "        # create an array of random rows for the given batch size\n",
    "        batch_rows =np.random.choice(n,size=batch_size,replace=False)\n",
    "        \n",
    "        # iterate through the rows in the batch\n",
    "        for _,row in enumerate(batch_rows):\n",
    "            w_grad,b_grad = model.gradient(X[row,:].reshape(1,-1),y[row,:].reshape(1,-1))\n",
    "            model.gradient_descent(w_grad,b_grad,lr)\n",
    "\n",
    "        train_loss = model.objective(X,y)\n",
    "        \n",
    "        valid_loss = 0.\n",
    "        \n",
    "        valid_loss = model.objective(x_valid,y_valid)\n",
    "                \n",
    "        train_losses.append(train_loss)\n",
    "        valid_losses.append(valid_loss)\n",
    "        if print_loss:\n",
    "            print(f'At epoch {e+1}, training loss: {train_loss:.4f}, validation loss: {valid_loss:.4f}.')\n",
    "            \n",
    "    return train_losses, valid_losses"
   ]
  },
  {
   "cell_type": "markdown",
   "metadata": {},
   "source": [
    "Run Mini-batch GD"
   ]
  },
  {
   "cell_type": "code",
   "execution_count": 59,
   "metadata": {},
   "outputs": [
    {
     "name": "stdout",
     "output_type": "stream",
     "text": [
      "At epoch 1, training loss: 1.2456, validation loss: 1.2967.\n",
      "At epoch 2, training loss: 1.0896, validation loss: 1.1983.\n",
      "At epoch 3, training loss: 0.9732, validation loss: 1.1166.\n",
      "At epoch 4, training loss: 0.8842, validation loss: 1.0538.\n",
      "At epoch 5, training loss: 0.8165, validation loss: 1.0043.\n",
      "At epoch 6, training loss: 0.7627, validation loss: 0.9583.\n",
      "At epoch 7, training loss: 0.7194, validation loss: 0.9186.\n",
      "At epoch 8, training loss: 0.6850, validation loss: 0.8844.\n",
      "At epoch 9, training loss: 0.6560, validation loss: 0.8589.\n",
      "At epoch 10, training loss: 0.6307, validation loss: 0.8358.\n",
      "At epoch 11, training loss: 0.6096, validation loss: 0.8106.\n",
      "At epoch 12, training loss: 0.5912, validation loss: 0.7956.\n",
      "At epoch 13, training loss: 0.5763, validation loss: 0.7732.\n",
      "At epoch 14, training loss: 0.5610, validation loss: 0.7579.\n",
      "At epoch 15, training loss: 0.5477, validation loss: 0.7473.\n",
      "At epoch 16, training loss: 0.5383, validation loss: 0.7389.\n",
      "At epoch 17, training loss: 0.5268, validation loss: 0.7234.\n",
      "At epoch 18, training loss: 0.5168, validation loss: 0.7100.\n",
      "At epoch 19, training loss: 0.5083, validation loss: 0.7028.\n",
      "At epoch 20, training loss: 0.5005, validation loss: 0.6852.\n"
     ]
    }
   ],
   "source": [
    "''' Update the hyper-parameters (num_epoch, lr, lam, and batch_size) according to your observation \n",
    "    to achieve better performance.\n",
    "'''\n",
    "\n",
    "num_epoch = 20\n",
    "lr = 0.01\n",
    "lam = 1E-6\n",
    "batch_size = 10000\n",
    "\n",
    "mini_gd_lr = LogisticRegression(vocab_size, num_class, lam)\n",
    "mini_gd_train_losses, mini_gd_valid_losses = mini_batch_gd(mini_gd_lr, x_train, y_train, batch_size, lr, lam, num_epoch)"
   ]
  },
  {
   "cell_type": "markdown",
   "metadata": {},
   "source": [
    "### 2.4 Evaluation"
   ]
  },
  {
   "cell_type": "code",
   "execution_count": 50,
   "metadata": {},
   "outputs": [
    {
     "name": "stdout",
     "output_type": "stream",
     "text": [
      "SGD\n",
      "\n",
      "  Precision:\n",
      "    class 0: 0.9083, class 1: 0.9449, class 2: 0.8886, class 3: 0.7964\n",
      "\n",
      "  Recall:\n",
      "    class 0: 0.8711, class 1: 0.9574, class 2: 0.7937, class 3: 0.9037\n"
     ]
    }
   ],
   "source": [
    "from sklearn.metrics import precision_score, recall_score\n",
    "\n",
    "y_hat = sgd_lr.predict(x_test)\n",
    "y_true = np.argmax(y_test, axis=1)\n",
    "\n",
    "precision = precision_score(y_true, y_hat, average=None)\n",
    "recall = recall_score(y_true, y_hat, average=None)\n",
    "\n",
    "print('SGD')\n",
    "print()\n",
    "print('  Precision:')\n",
    "print(f'    class {0}: {precision[0]:.4f}, class {1}: {precision[1]:.4f}, class {2}: {precision[2]:.4f}, class {3}: {precision[3]:.4f}')\n",
    "print()\n",
    "print('  Recall:')\n",
    "print(f'    class {0}: {recall[0]:.4f}, class {1}: {recall[1]:.4f}, class {2}: {recall[2]:.4f}, class {3}: {recall[3]:.4f}')"
   ]
  },
  {
   "cell_type": "markdown",
   "metadata": {},
   "source": [
    "##### plot training loss and validation loss for SGD"
   ]
  },
  {
   "cell_type": "code",
   "execution_count": 51,
   "metadata": {},
   "outputs": [
    {
     "data": {
      "image/png": "[encoded data removed]",
      "text/plain": [
       "<Figure size 432x288 with 1 Axes>"
      ]
     },
     "metadata": {
      "needs_background": "light"
     },
     "output_type": "display_data"
    }
   ],
   "source": [
    "import matplotlib.pyplot as plt\n",
    "\n",
    "%matplotlib inline\n",
    "\n",
    "\n",
    "plt.plot(range(num_epoch_SGD), sgd_train_losses, sgd_valid_losses)\n",
    "plt.xlabel('Epoch')\n",
    "plt.ylabel('Loss')\n",
    "plt.legend([\"Training loss\", \"Validation loss\"])\n",
    "plt.title('SGD')\n",
    "plt.show()"
   ]
  },
  {
   "cell_type": "markdown",
   "metadata": {},
   "source": [
    "##### evaluate your model with Mini-batch GD"
   ]
  },
  {
   "cell_type": "code",
   "execution_count": 52,
   "metadata": {},
   "outputs": [
    {
     "name": "stdout",
     "output_type": "stream",
     "text": [
      "Mini-batch GD\n",
      "\n",
      "  Precision:\n",
      "    class 0: 0.8688, class 1: 0.9273, class 2: 0.8948, class 3: 0.7186\n",
      "\n",
      "  Recall:\n",
      "    class 0: 0.8542, class 1: 0.9326, class 2: 0.6847, class 3: 0.8953\n"
     ]
    }
   ],
   "source": [
    "y_hat = mini_gd_lr.predict(x_test)\n",
    "y_true = np.argmax(y_test, axis=1)\n",
    "\n",
    "precision = precision_score(y_true, y_hat, average=None)\n",
    "recall = recall_score(y_true, y_hat, average=None)\n",
    "\n",
    "print('Mini-batch GD')\n",
    "print()\n",
    "print('  Precision:')\n",
    "print(f'    class {0}: {precision[0]:.4f}, class {1}: {precision[1]:.4f}, class {2}: {precision[2]:.4f}, class {3}: {precision[3]:.4f}')\n",
    "print()\n",
    "print('  Recall:')\n",
    "print(f'    class {0}: {recall[0]:.4f}, class {1}: {recall[1]:.4f}, class {2}: {recall[2]:.4f}, class {3}: {recall[3]:.4f}')"
   ]
  },
  {
   "cell_type": "markdown",
   "metadata": {},
   "source": [
    "##### plot training loss and validation loss for Mini-batch GD"
   ]
  },
  {
   "cell_type": "code",
   "execution_count": 53,
   "metadata": {},
   "outputs": [
    {
     "data": {
      "image/png": "[encoded data removed]",
      "text/plain": [
       "<Figure size 432x288 with 1 Axes>"
      ]
     },
     "metadata": {
      "needs_background": "light"
     },
     "output_type": "display_data"
    }
   ],
   "source": [
    "plt.plot(range(num_epoch), mini_gd_train_losses, mini_gd_valid_losses)\n",
    "plt.xlabel('Epoch')\n",
    "plt.ylabel('Loss')\n",
    "plt.legend([\"Training loss\", \"Validation loss\"])\n",
    "plt.title('Mini-batch GD')\n",
    "plt.show()"
   ]
  },
  {
   "cell_type": "markdown",
   "metadata": {},
   "source": [
    "## 3. Cross-Validation"
   ]
  },
  {
   "cell_type": "markdown",
   "metadata": {},
   "source": [
    "### 3.1 Reload dataset"
   ]
  },
  {
   "cell_type": "code",
   "execution_count": null,
   "metadata": {},
   "outputs": [],
   "source": [
    "text_train = train_df['text'].values.astype(str)\n",
    "label_train = train_df['label'].values.astype(int) - 1 # -1 because labels start from 1\n",
    "\n",
    "text_test = test_df['text'].values.astype(str)\n",
    "label_test = test_df['label'].values.astype(int) - 1 # -1 because labels start from 1\n",
    "\n",
    "\n",
    "shuffler = np.random.permutation(len(text_train))\n",
    "text_train_shuffled = text_train[shuffler]\n",
    "label_train_shuffled = label_train[shuffler]\n",
    "\n",
    "br = int(len(text_train_shuffled)*.25)\n",
    "\n"
   ]
  },
  {
   "cell_type": "markdown",
   "metadata": {},
   "source": [
    "### 3.2 Define the range of $\\lambda$."
   ]
  },
  {
   "cell_type": "code",
   "execution_count": null,
   "id": "d51466c2",
   "metadata": {},
   "outputs": [],
   "source": [
    "lambdas = [1E-7,1E-6,1E-5] ## Fill the values of lambda"
   ]
  },
  {
   "cell_type": "markdown",
   "metadata": {},
   "source": [
    "### 3.3 cross-validation.\n"
   ]
  },
  {
   "cell_type": "code",
   "execution_count": 90,
   "metadata": {},
   "outputs": [
    {
     "data": {
      "application/vnd.jupyter.widget-view+json": {
       "model_id": "a1f25a5551c14d179ea6650cea428d0e",
       "version_major": 2,
       "version_minor": 0
      },
      "text/plain": [
       "  0%|          | 0/3 [00:00<?, ?it/s]"
      ]
     },
     "metadata": {},
     "output_type": "display_data"
    },
    {
     "data": {
      "application/vnd.jupyter.widget-view+json": {
       "model_id": "6044e05fe4e149988339d74ebf9093dd",
       "version_major": 2,
       "version_minor": 0
      },
      "text/plain": [
       "fitting text:   0%|          | 0/90000 [00:00<?, ?it/s]"
      ]
     },
     "metadata": {},
     "output_type": "display_data"
    },
    {
     "data": {
      "application/vnd.jupyter.widget-view+json": {
       "model_id": "fb738a4834ad47538d87762e6e5c7053",
       "version_major": 2,
       "version_minor": 0
      },
      "text/plain": [
       "transforming:   0%|          | 0/90000 [00:00<?, ?it/s]"
      ]
     },
     "metadata": {},
     "output_type": "display_data"
    }
   ],
   "source": [
    "def cross_valid_eval(lambdas,lr,num_epoch):\n",
    "    # batch_size = 100\n",
    "\n",
    "    for l in tqdm(lambdas):\n",
    "        kx_train = []\n",
    "        kx_valid = []\n",
    "        ky_train = []\n",
    "        ky_valid = []\n",
    "        k_losses = []\n",
    "        #4 folds\n",
    "        for k in range(4):\n",
    "            kx_valid.append(text_train[k*br:(k+1)*br])\n",
    "            ky_valid.append(label_train[k*br:(k+1)*br])\n",
    "            kx_train.append(np.delete(text_train,range(k*br,(k+1)*br),axis=0))\n",
    "            ky_train.append(np.delete(label_train,range(k*br,(k+1)*br),axis=0))\n",
    "            extractor = TfIdfExtractor(vocab_size=vocab_size)\n",
    "            extractor.fit(kx_train[k])\n",
    "            x = extractor.transform(kx_train[k])\n",
    "            xt = extractor.transform(kx_valid[k])\n",
    "            y = np.zeros((ky_train[k].shape[0], num_class))\n",
    "            y[np.arange(ky_train[k].shape[0]), ky_train[k]] = 1\n",
    "            yt = np.zeros((ky_valid[k].shape[0], num_class))\n",
    "            yt[np.arange(ky_valid[k].shape[0]), ky_valid[k]] = 1\n",
    "            model = LogisticRegression(vocab_size,num_class,l)\n",
    "            sgd(model,x,y,lr,l,num_epoch,False)\n",
    "            k_losses.append(model.objective(xt,yt))\n",
    "\n",
    "\n",
    "\n",
    "        \n",
    "        # model = LogisticRegression(vocab_size,num_class,l)\n",
    "        # mini_batch_gd(model,x_train,y_train,batch_size,lr,l,num_epoch,False)\n",
    "\n",
    "        # y_pred = model.predict(text_test)\n",
    "        # y = np.argmax(label_test,axis=1)\n",
    "\n",
    "        # precision = precision_score(y,y_pred,average=None)\n",
    "        # recall = recall_score(y,y_pred,average=None)\n",
    "\n",
    "        print(f'\\nLambda: {l}')\n",
    "        print(f'  Average Validation Loss:{np.mean(k_losses)}')\n",
    "        # print('  Precision:')\n",
    "        # print(f'    class {0}: {precision[0]:.4f}, class {1}: {precision[1]:.4f}, class {2}: {precision[2]:.4f}, class {3}: {precision[3]:.4f}')\n",
    "        # print('  Recall:')\n",
    "        # print(f'    class {0}: {recall[0]:.4f}, class {1}: {recall[1]:.4f}, class {2}: {recall[2]:.4f}, class {3}: {recall[3]:.4f}\\n')\n",
    "\n",
    "\n",
    "cross_valid_eval(lambdas,0.01,10)"
   ]
  },
  {
   "cell_type": "markdown",
   "metadata": {},
   "source": [
    "### 3.4 Reporting the best $lambda$ value, and report the recall and precision for each category on the test set."
   ]
  },
  {
   "cell_type": "code",
   "execution_count": null,
   "id": "b7812f74",
   "metadata": {},
   "outputs": [],
   "source": [
    "lamb = 1e-6\n",
    "verbose = True\n",
    "\n",
    "text_train = train_df['text'].values.astype(str)\n",
    "label_train = train_df['label'].values.astype(int) - 1 # -1 because labels start from 1\n",
    "\n",
    "text_test = test_df['text'].values.astype(str)\n",
    "label_test = test_df['label'].values.astype(int) - 1 # -1 because labels start from 1\n",
    "\n",
    "\n",
    "vocab_size = 4000 \n",
    "num_class = 4\n",
    "\n",
    "extractor = TfIdfExtractor(vocab_size=vocab_size)\n",
    "extractor.fit(text_train)\n",
    "\n",
    "x_train = extractor.transform(text_train)\n",
    "x_test = extractor.transform(text_test)\n",
    "\n",
    "y_train = np.zeros((label_train.shape[0], num_class))\n",
    "y_train[np.arange(label_train.shape[0]), label_train] = 1\n",
    "\n",
    "y_test = np.zeros((label_test.shape[0], num_class))\n",
    "y_test[np.arange(label_test.shape[0]), label_test] = 1\n",
    "\n",
    "\n",
    "print('The size of training set:', x_train.shape)\n",
    "print('The size of test set:', x_test.shape)\n",
    "\n",
    "\n",
    "sgd_lr = LogisticRegression(vocab_size, num_class, lambdaa)\n",
    "sgd(sgd_lr, x_train, y_train, lr, lamb, 20,False)\n",
    "print()"
   ]
  },
  {
   "cell_type": "markdown",
   "metadata": {},
   "source": [
    "##### The best lambda value is 1e-6\n",
    "##### Lambda: 1e-06\n",
    "#####   Precision:\n",
    "#####       class 0: 0.9083, class 1: 0.9449, class 2: 0.8886, class 3: 0.7964\n",
    "#####    Recall:\n",
    "#####       class 0: 0.8711, class 1: 0.9574, class 2: 0.7937, class 3: 0.9037"
   ]
  },
  {
   "cell_type": "markdown",
   "metadata": {},
   "source": [
    "# 4. Conclusion"
   ]
  },
  {
   "cell_type": "markdown",
   "metadata": {},
   "source": [
    "*  Model is performing well when the lambda is around 1e-6\n",
    "*  The loss is decreasing with the number of epochs\n",
    "*  Mini-batch SGD is computationally faster than the SGD\n",
    "*  Model is very good at predicting class 1 and class 0 when compared to other classes."
   ]
  }
 ],
 "metadata": {
  "kernelspec": {
   "display_name": "Python 3",
   "language": "python",
   "name": "python3"
  },
  "language_info": {
   "codemirror_mode": {
    "name": "ipython",
    "version": 3
   },
   "file_extension": ".py",
   "mimetype": "text/x-python",
   "name": "python",
   "nbconvert_exporter": "python",
   "pygments_lexer": "ipython3",
   "version": "3.9.7"
  }
 },
 "nbformat": 4,
 "nbformat_minor": 5
}
